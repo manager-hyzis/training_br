{
 "cells": [
  {
   "cell_type": "code",
   "execution_count": null,
   "id": "88a42935",
   "metadata": {},
   "outputs": [],
   "source": [
    "\"\"\"Roboflow TFLite Object Detection - DetectionPlate\"\"\""
   ]
  },
  {
   "cell_type": "code",
   "execution_count": null,
   "id": "75124376",
   "metadata": {},
   "outputs": [],
   "source": [
    "import os\n",
    "os.environ['PROTOCOL_BUFFERS_PYTHON_IMPLEMENTATION'] = 'python'"
   ]
  },
  {
   "cell_type": "code",
   "execution_count": null,
   "id": "66d4ba41",
   "metadata": {},
   "outputs": [],
   "source": [
    "!pip install tensorflow==2.19 protobuf==4.25.3"
   ]
  },
  {
   "cell_type": "code",
   "execution_count": null,
   "id": "5d155df0",
   "metadata": {},
   "outputs": [],
   "source": [
    "!curl -L \"https://app.roboflow.com/ds/jGKtUsrJON?key=TU7R5jgvdm\" > roboflow.zip; unzip -o roboflow.zip; rm roboflow.zip"
   ]
  },
  {
   "cell_type": "code",
   "execution_count": null,
   "id": "35b1fdfa",
   "metadata": {},
   "outputs": [],
   "source": [
    "repo_url = 'https://github.com/roboflow-ai/tensorflow-object-detection-faster-rcnn'"
   ]
  },
  {
   "cell_type": "code",
   "execution_count": null,
   "id": "1625af31",
   "metadata": {},
   "outputs": [],
   "source": [
    "num_steps = 100000\n",
    "num_eval_steps = 50"
   ]
  },
  {
   "cell_type": "code",
   "execution_count": null,
   "id": "601e42ab",
   "metadata": {},
   "outputs": [],
   "source": [
    "MODELS_CONFIG = {\n",
    "    'ssd_mobilenet_v2': {\n",
    "        'model_name': 'ssd_mobilenet_v2_coco_2018_03_29',\n",
    "        'pipeline_file': 'ssd_mobilenet_v2_coco.config',\n",
    "        'batch_size': 12\n",
    "    },\n",
    "    'faster_rcnn_inception_v2': {\n",
    "        'model_name': 'faster_rcnn_inception_v2_coco_2018_01_28',\n",
    "        'pipeline_file': 'faster_rcnn_inception_v2_pets.config',\n",
    "        'batch_size': 12\n",
    "    },\n",
    "    'rfcn_resnet101': {\n",
    "        'model_name': 'rfcn_resnet101_coco_2018_01_28',\n",
    "        'pipeline_file': 'rfcn_resnet101_pets.config',\n",
    "        'batch_size': 8\n",
    "    },\n",
    "}"
   ]
  },
  {
   "cell_type": "code",
   "execution_count": null,
   "id": "e4d0a7c4",
   "metadata": {},
   "outputs": [],
   "source": [
    "selected_model = 'ssd_mobilenet_v2'\n",
    "MODEL = MODELS_CONFIG[selected_model]['model_name']\n",
    "pipeline_file = MODELS_CONFIG[selected_model]['pipeline_file']\n",
    "batch_size = MODELS_CONFIG[selected_model]['batch_size']"
   ]
  },
  {
   "cell_type": "code",
   "execution_count": null,
   "id": "c78d03a3",
   "metadata": {},
   "outputs": [],
   "source": [
    "import shutil\n",
    "import glob\n",
    "import urllib.request\n",
    "import tarfile\n",
    "import re\n",
    "import numpy as np\n",
    "import six.moves.urllib as urllib"
   ]
  },
  {
   "cell_type": "code",
   "execution_count": null,
   "id": "6e1eb29d",
   "metadata": {},
   "outputs": [],
   "source": [
    "os.chdir('/content')"
   ]
  },
  {
   "cell_type": "code",
   "execution_count": null,
   "id": "667caafd",
   "metadata": {},
   "outputs": [],
   "source": [
    "repo_dir_path = os.path.abspath(os.path.join('.', os.path.basename(repo_url)))"
   ]
  },
  {
   "cell_type": "code",
   "execution_count": null,
   "id": "03e30247",
   "metadata": {},
   "outputs": [],
   "source": [
    "!git clone {repo_url}\n",
    "!git clone --quiet https://github.com/tensorflow/models.git"
   ]
  },
  {
   "cell_type": "code",
   "execution_count": null,
   "id": "f993190d",
   "metadata": {},
   "outputs": [],
   "source": [
    "!pip install tf_slim\n",
    "!apt-get install -qq protobuf-compiler python-pil python-lxml python-tk\n",
    "!pip install -q Cython contextlib2 pillow lxml matplotlib\n",
    "!pip install -q pycocotools\n",
    "!pip install lvis==0.5.3"
   ]
  },
  {
   "cell_type": "code",
   "execution_count": null,
   "id": "02204fb7",
   "metadata": {},
   "outputs": [],
   "source": [
    "os.chdir('/content/models/research')\n",
    "!protoc object_detection/protos/*.proto --python_out=."
   ]
  },
  {
   "cell_type": "code",
   "execution_count": null,
   "id": "ef074c28",
   "metadata": {
    "lines_to_next_cell": 2
   },
   "outputs": [],
   "source": [
    "os.environ['PYTHONPATH'] += ':/content/models/research/:/content/models/research/slim/'"
   ]
  },
  {
   "cell_type": "code",
   "execution_count": null,
   "id": "711b21cf",
   "metadata": {},
   "outputs": [],
   "source": [
    "!mkdir -p /content/train\n",
    "os.chdir('/content/train')\n",
    "!curl -L \"https://app.roboflow.com/ds/jGKtUsrJON?key=TU7R5jgvdm\" > roboflow.zip; unzip -o roboflow.zip; rm roboflow.zip"
   ]
  },
  {
   "cell_type": "code",
   "execution_count": null,
   "id": "1a6a728c",
   "metadata": {},
   "outputs": [],
   "source": [
    "!mkdir -p /content/tensorflow-object-detection-faster-rcnn/data/train\n",
    "!mkdir -p /content/tensorflow-object-detection-faster-rcnn/data/test"
   ]
  },
  {
   "cell_type": "code",
   "execution_count": null,
   "id": "0545a882",
   "metadata": {},
   "outputs": [],
   "source": [
    "!cp /content/train/train/plates.tfrecord /content/tensorflow-object-detection-faster-rcnn/data/train/\n",
    "!cp /content/train/train/plates_label_map.pbtxt /content/tensorflow-object-detection-faster-rcnn/data/train/\n",
    "!cp /content/train/test/plates.tfrecord /content/tensorflow-object-detection-faster-rcnn/data/test/"
   ]
  },
  {
   "cell_type": "code",
   "execution_count": null,
   "id": "94be55b0",
   "metadata": {},
   "outputs": [],
   "source": [
    "test_record_fname = '/content/tensorflow-object-detection-faster-rcnn/data/test/plates.tfrecord'\n",
    "train_record_fname = '/content/tensorflow-object-detection-faster-rcnn/data/train/plates.tfrecord'\n",
    "label_map_pbtxt_fname = '/content/tensorflow-object-detection-faster-rcnn/data/train/plates_label_map.pbtxt'"
   ]
  },
  {
   "cell_type": "code",
   "execution_count": null,
   "id": "b8efaffa",
   "metadata": {},
   "outputs": [],
   "source": [
    "assert os.path.isfile(train_record_fname), f'Train TFRecord not found: {train_record_fname}'\n",
    "assert os.path.isfile(test_record_fname), f'Test TFRecord not found: {test_record_fname}'\n",
    "assert os.path.isfile(label_map_pbtxt_fname), f'Label map not found: {label_map_pbtxt_fname}'\n",
    "print(f'✅ Train TFRecord: {train_record_fname}')\n",
    "print(f'✅ Test TFRecord: {test_record_fname}')\n",
    "print(f'✅ Label map: {label_map_pbtxt_fname}')"
   ]
  },
  {
   "cell_type": "code",
   "execution_count": null,
   "id": "82130270",
   "metadata": {},
   "outputs": [],
   "source": [
    "MODEL_FILE = MODEL + '.tar.gz'\n",
    "DOWNLOAD_BASE = 'http://download.tensorflow.org/models/object_detection/'\n",
    "DEST_DIR = '/content/models/research/pretrained_model'"
   ]
  },
  {
   "cell_type": "code",
   "execution_count": null,
   "id": "9bd57f1a",
   "metadata": {},
   "outputs": [],
   "source": [
    "if not (os.path.exists(MODEL_FILE)):\n",
    "    urllib.request.urlretrieve(DOWNLOAD_BASE + MODEL_FILE, MODEL_FILE)"
   ]
  },
  {
   "cell_type": "code",
   "execution_count": null,
   "id": "8a2272cd",
   "metadata": {},
   "outputs": [],
   "source": [
    "tar = tarfile.open(MODEL_FILE)\n",
    "tar.extractall()\n",
    "tar.close()"
   ]
  },
  {
   "cell_type": "code",
   "execution_count": null,
   "id": "bf4d63aa",
   "metadata": {},
   "outputs": [],
   "source": [
    "os.remove(MODEL_FILE)\n",
    "if (os.path.exists(DEST_DIR)):\n",
    "    shutil.rmtree(DEST_DIR)"
   ]
  },
  {
   "cell_type": "code",
   "execution_count": null,
   "id": "79c43dbe",
   "metadata": {},
   "outputs": [],
   "source": [
    "if os.path.exists(MODEL):\n",
    "    os.rename(MODEL, DEST_DIR)\n",
    "else:\n",
    "    print(f\"Error: {MODEL} not found after extraction\")\n",
    "    print(f\"Available files: {os.listdir('.')}\")"
   ]
  },
  {
   "cell_type": "code",
   "execution_count": null,
   "id": "673349b6",
   "metadata": {},
   "outputs": [],
   "source": [
    "!echo {DEST_DIR}\n",
    "!ls -alh {DEST_DIR}"
   ]
  },
  {
   "cell_type": "code",
   "execution_count": null,
   "id": "6d779c73",
   "metadata": {
    "lines_to_next_cell": 2
   },
   "outputs": [],
   "source": [
    "fine_tune_checkpoint = os.path.join(DEST_DIR, \"model.ckpt\")\n",
    "fine_tune_checkpoint"
   ]
  },
  {
   "cell_type": "code",
   "execution_count": null,
   "id": "c40a3a2a",
   "metadata": {},
   "outputs": [],
   "source": [
    "pipeline_fname = os.path.join('/content/models/research/object_detection/samples/configs/', pipeline_file)"
   ]
  },
  {
   "cell_type": "code",
   "execution_count": null,
   "id": "55216323",
   "metadata": {
    "lines_to_next_cell": 1
   },
   "outputs": [],
   "source": [
    "assert os.path.isfile(pipeline_fname), '`{}` not exist'.format(pipeline_fname)"
   ]
  },
  {
   "cell_type": "code",
   "execution_count": null,
   "id": "b6544429",
   "metadata": {
    "lines_to_next_cell": 1
   },
   "outputs": [],
   "source": [
    "def get_num_classes(pbtxt_fname):\n",
    "    from object_detection.utils import label_map_util\n",
    "    label_map = label_map_util.load_labelmap(pbtxt_fname)\n",
    "    categories = label_map_util.convert_label_map_to_categories(\n",
    "        label_map, max_num_classes=90, use_display_name=True)\n",
    "    category_index = label_map_util.create_category_index(categories)\n",
    "    return len(category_index.keys())"
   ]
  },
  {
   "cell_type": "code",
   "execution_count": null,
   "id": "dcd5e96e",
   "metadata": {},
   "outputs": [],
   "source": [
    "num_classes = get_num_classes(label_map_pbtxt_fname)\n",
    "with open(pipeline_fname) as f:\n",
    "    s = f.read()\n",
    "with open(pipeline_fname, 'w') as f:\n",
    "\n",
    "    # fine_tune_checkpoint\n",
    "    s = re.sub('fine_tune_checkpoint: \".*?\"',\n",
    "               'fine_tune_checkpoint: \"{}\"'.format(fine_tune_checkpoint), s)\n",
    "\n",
    "    # tfrecord files train and test.\n",
    "    s = re.sub(\n",
    "        '(input_path: \".*?)(train.record)(.*?\")', 'input_path: \"{}\"'.format(train_record_fname), s)\n",
    "    s = re.sub(\n",
    "        '(input_path: \".*?)(val.record)(.*?\")', 'input_path: \"{}\"'.format(test_record_fname), s)\n",
    "\n",
    "    # label_map_path\n",
    "    s = re.sub(\n",
    "        'label_map_path: \".*?\"', 'label_map_path: \"{}\"'.format(label_map_pbtxt_fname), s)\n",
    "\n",
    "    # Set training batch_size.\n",
    "    s = re.sub('batch_size: [0-9]+',\n",
    "               'batch_size: {}'.format(batch_size), s)\n",
    "\n",
    "    # Set training steps, num_steps\n",
    "    s = re.sub('num_steps: [0-9]+',\n",
    "               'num_steps: {}'.format(num_steps), s)\n",
    "\n",
    "    # Set number of classes num_classes.\n",
    "    s = re.sub('num_classes: [0-9]+',\n",
    "               'num_classes: {}'.format(num_classes), s)\n",
    "    f.write(s)"
   ]
  },
  {
   "cell_type": "code",
   "execution_count": null,
   "id": "fe92b210",
   "metadata": {},
   "outputs": [],
   "source": [
    "!cat {pipeline_fname}"
   ]
  },
  {
   "cell_type": "code",
   "execution_count": null,
   "id": "aed42a95",
   "metadata": {},
   "outputs": [],
   "source": [
    "model_dir = '/content/models/research/training/'\n",
    "os.makedirs(model_dir, exist_ok=True)"
   ]
  },
  {
   "cell_type": "code",
   "execution_count": null,
   "id": "1e1f5675",
   "metadata": {},
   "outputs": [],
   "source": [
    "!wget https://bin.equinox.io/c/4VmDzA7iaHb/ngrok-stable-linux-amd64.zip\n",
    "!unzip -o ngrok-stable-linux-amd64.zip"
   ]
  },
  {
   "cell_type": "code",
   "execution_count": null,
   "id": "c7495dae",
   "metadata": {},
   "outputs": [],
   "source": [
    "LOG_DIR = model_dir\n",
    "get_ipython().system_raw(\n",
    "    'tensorboard --logdir {} --host 0.0.0.0 --port 6006 &'\n",
    "    .format(LOG_DIR)\n",
    ")"
   ]
  },
  {
   "cell_type": "code",
   "execution_count": null,
   "id": "1eed90ac",
   "metadata": {
    "lines_to_next_cell": 2
   },
   "outputs": [],
   "source": [
    "get_ipython().system_raw('./ngrok http 6006 &')"
   ]
  },
  {
   "cell_type": "code",
   "execution_count": null,
   "id": "91561f27",
   "metadata": {},
   "outputs": [],
   "source": [
    "!python /content/models/research/object_detection/model_main.py \\\n",
    "    --pipeline_config_path={pipeline_fname} \\\n",
    "    --model_dir={model_dir} \\\n",
    "    --alsologtostderr \\\n",
    "    --num_train_steps={num_steps} \\\n",
    "    --num_eval_steps={num_eval_steps}"
   ]
  },
  {
   "cell_type": "code",
   "execution_count": null,
   "id": "d298ace4",
   "metadata": {
    "lines_to_next_cell": 2
   },
   "outputs": [],
   "source": [
    "!ls {model_dir}"
   ]
  },
  {
   "cell_type": "code",
   "execution_count": null,
   "id": "b7a6c618",
   "metadata": {},
   "outputs": [],
   "source": [
    "output_directory = '/content/models/research/fine_tuned_model'\n",
    "tflite_directory = '/content/models/research/fine_tuned_model/tflite'"
   ]
  },
  {
   "cell_type": "code",
   "execution_count": null,
   "id": "77daaf74",
   "metadata": {},
   "outputs": [],
   "source": [
    "lst = os.listdir(model_dir)\n",
    "lst = [l for l in lst if 'model.ckpt-' in l and '.meta' in l]\n",
    "steps = np.array([int(re.findall('\\d+', l)[0]) for l in lst])\n",
    "last_model = lst[steps.argmax()].replace('.meta', '')"
   ]
  },
  {
   "cell_type": "code",
   "execution_count": null,
   "id": "ac5b7a62",
   "metadata": {},
   "outputs": [],
   "source": [
    "last_model_path = os.path.join(model_dir, last_model)\n",
    "print(last_model_path)\n",
    "!python /content/models/research/object_detection/export_inference_graph.py \\\n",
    "    --input_type=image_tensor \\\n",
    "    --pipeline_config_path={pipeline_fname} \\\n",
    "    --output_directory={output_directory} \\\n",
    "    --trained_checkpoint_prefix={last_model_path}\n",
    "!python /content/models/research/object_detection/export_tflite_ssd_graph.py \\\n",
    "    --input_type=image_tensor \\\n",
    "    --pipeline_config_path={pipeline_fname} \\\n",
    "    --output_directory={tflite_directory} \\\n",
    "    --trained_checkpoint_prefix={last_model_path}"
   ]
  },
  {
   "cell_type": "code",
   "execution_count": null,
   "id": "11d88ca5",
   "metadata": {
    "lines_to_next_cell": 2
   },
   "outputs": [],
   "source": [
    "!ls {output_directory}"
   ]
  },
  {
   "cell_type": "code",
   "execution_count": null,
   "id": "120fc54d",
   "metadata": {},
   "outputs": [],
   "source": [
    "pb_fname = os.path.join(os.path.abspath(output_directory), \"frozen_inference_graph.pb\")\n",
    "print(pb_fname)\n",
    "assert os.path.isfile(pb_fname), '`{}` not exist'.format(pb_fname)"
   ]
  },
  {
   "cell_type": "code",
   "execution_count": null,
   "id": "33885fa8",
   "metadata": {},
   "outputs": [],
   "source": [
    "!cp -r /content/test/test/ /content/tensorflow-object-detection-faster-rcnn/"
   ]
  },
  {
   "cell_type": "code",
   "execution_count": null,
   "id": "b674307d",
   "metadata": {},
   "outputs": [],
   "source": [
    "PATH_TO_CKPT = pb_fname\n",
    "PATH_TO_LABELS = label_map_pbtxt_fname\n",
    "PATH_TO_TEST_IMAGES_DIR =  os.path.join(repo_dir_path, \"test\")"
   ]
  },
  {
   "cell_type": "code",
   "execution_count": null,
   "id": "187aa9b0",
   "metadata": {},
   "outputs": [],
   "source": [
    "assert os.path.isfile(pb_fname)\n",
    "assert os.path.isfile(PATH_TO_LABELS)\n",
    "TEST_IMAGE_PATHS = glob.glob(os.path.join(PATH_TO_TEST_IMAGES_DIR, \"*.*\"))\n",
    "assert len(TEST_IMAGE_PATHS) > 0, 'No image found in `{}`.'.format(PATH_TO_TEST_IMAGES_DIR)\n",
    "print(TEST_IMAGE_PATHS)"
   ]
  },
  {
   "cell_type": "code",
   "execution_count": null,
   "id": "63ff3ce4",
   "metadata": {
    "lines_to_next_cell": 2
   },
   "outputs": [],
   "source": [
    "!ls /content/tensorflow-object-detection-faster-rcnn/"
   ]
  },
  {
   "cell_type": "code",
   "execution_count": null,
   "id": "440a04af",
   "metadata": {},
   "outputs": [],
   "source": [
    "import six.moves.urllib as urllib\n",
    "import sys\n",
    "import tensorflow as tf\n",
    "import zipfile"
   ]
  },
  {
   "cell_type": "code",
   "execution_count": null,
   "id": "93c6398a",
   "metadata": {},
   "outputs": [],
   "source": [
    "from collections import defaultdict\n",
    "from io import StringIO\n",
    "from matplotlib import pyplot as plt\n",
    "from PIL import Image"
   ]
  },
  {
   "cell_type": "code",
   "execution_count": null,
   "id": "eb9672d7",
   "metadata": {},
   "outputs": [],
   "source": [
    "sys.path.append(\"..\")\n",
    "from object_detection.utils import ops as utils_ops\n",
    "from object_detection.utils import label_map_util\n",
    "from object_detection.utils import visualization_utils as vis_util"
   ]
  },
  {
   "cell_type": "code",
   "execution_count": null,
   "id": "b8f34a46",
   "metadata": {
    "lines_to_next_cell": 2
   },
   "outputs": [],
   "source": [
    "detection_graph = tf.Graph()\n",
    "with detection_graph.as_default():\n",
    "    od_graph_def = tf.GraphDef()\n",
    "    with tf.gfile.GFile(PATH_TO_CKPT, 'rb') as fid:\n",
    "        serialized_graph = fid.read()\n",
    "        od_graph_def.ParseFromString(serialized_graph)\n",
    "        tf.import_graph_def(od_graph_def, name='')"
   ]
  },
  {
   "cell_type": "code",
   "execution_count": null,
   "id": "442e7a4b",
   "metadata": {},
   "outputs": [],
   "source": [
    "label_map = label_map_util.load_labelmap(PATH_TO_LABELS)\n",
    "categories = label_map_util.convert_label_map_to_categories(\n",
    "    label_map, max_num_classes=num_classes, use_display_name=True)\n",
    "category_index = label_map_util.create_category_index(categories)"
   ]
  },
  {
   "cell_type": "code",
   "execution_count": null,
   "id": "cd1732c2",
   "metadata": {
    "lines_to_next_cell": 1
   },
   "outputs": [],
   "source": [
    "def load_image_into_numpy_array(image):\n",
    "    (im_width, im_height) = image.size\n",
    "    return np.array(image.getdata()).reshape(\n",
    "        (im_height, im_width, 3)).astype(np.uint8)"
   ]
  },
  {
   "cell_type": "code",
   "execution_count": null,
   "id": "eba35f96",
   "metadata": {},
   "outputs": [],
   "source": [
    "IMAGE_SIZE = (12, 8)"
   ]
  },
  {
   "cell_type": "code",
   "execution_count": null,
   "id": "077e34b5",
   "metadata": {
    "lines_to_next_cell": 1
   },
   "outputs": [],
   "source": [
    "def run_inference_for_single_image(image, graph):\n",
    "    with graph.as_default():\n",
    "        with tf.Session() as sess:\n",
    "            ops = tf.get_default_graph().get_operations()\n",
    "            all_tensor_names = {\n",
    "                output.name for op in ops for output in op.outputs}\n",
    "            tensor_dict = {}\n",
    "            for key in [\n",
    "                'num_detections', 'detection_boxes', 'detection_scores',\n",
    "                'detection_classes', 'detection_masks'\n",
    "            ]:\n",
    "                tensor_name = key + ':0'\n",
    "                if tensor_name in all_tensor_names:\n",
    "                    tensor_dict[key] = tf.get_default_graph().get_tensor_by_name(\n",
    "                        tensor_name)\n",
    "            if 'detection_masks' in tensor_dict:\n",
    "                detection_boxes = tf.squeeze(\n",
    "                    tensor_dict['detection_boxes'], [0])\n",
    "                detection_masks = tf.squeeze(\n",
    "                    tensor_dict['detection_masks'], [0])\n",
    "                real_num_detection = tf.cast(\n",
    "                    tensor_dict['num_detections'][0], tf.int32)\n",
    "                detection_boxes = tf.slice(detection_boxes, [0, 0], [\n",
    "                                           real_num_detection, -1])\n",
    "                detection_masks = tf.slice(detection_masks, [0, 0, 0], [\n",
    "                                           real_num_detection, -1, -1])\n",
    "                detection_masks_reframed = utils_ops.reframe_box_masks_to_image_masks(\n",
    "                    detection_masks, detection_boxes, image.shape[0], image.shape[1])\n",
    "                detection_masks_reframed = tf.cast(\n",
    "                    tf.greater(detection_masks_reframed, 0.5), tf.uint8)\n",
    "                tensor_dict['detection_masks'] = tf.expand_dims(\n",
    "                    detection_masks_reframed, 0)\n",
    "            image_tensor = tf.get_default_graph().get_tensor_by_name('image_tensor:0')\n",
    "\n",
    "            output_dict = sess.run(tensor_dict,\n",
    "                                   feed_dict={image_tensor: np.expand_dims(image, 0)})\n",
    "\n",
    "            output_dict['num_detections'] = int(\n",
    "                output_dict['num_detections'][0])\n",
    "            output_dict['detection_classes'] = output_dict[\n",
    "                'detection_classes'][0].astype(np.uint8)\n",
    "            output_dict['detection_boxes'] = output_dict['detection_boxes'][0]\n",
    "            output_dict['detection_scores'] = output_dict['detection_scores'][0]\n",
    "            if 'detection_masks' in output_dict:\n",
    "                output_dict['detection_masks'] = output_dict['detection_masks'][0]\n",
    "    return output_dict"
   ]
  },
  {
   "cell_type": "code",
   "execution_count": null,
   "id": "1eecaf98",
   "metadata": {},
   "outputs": [],
   "source": [
    "count = 5\n",
    "for i, image_path in enumerate(TEST_IMAGE_PATHS):\n",
    "    if i > count:\n",
    "        break\n",
    "    image = Image.open(image_path)\n",
    "    image_np = load_image_into_numpy_array(image)\n",
    "    image_np_expanded = np.expand_dims(image_np, axis=0)\n",
    "    output_dict = run_inference_for_single_image(image_np, detection_graph)\n",
    "    vis_util.visualize_boxes_and_labels_on_image_array(\n",
    "        image_np,\n",
    "        output_dict['detection_boxes'],\n",
    "        output_dict['detection_classes'],\n",
    "        output_dict['detection_scores'],\n",
    "        category_index,\n",
    "        instance_masks=output_dict.get('detection_masks'),\n",
    "        use_normalized_coordinates=True,\n",
    "        line_thickness=8)\n",
    "    plt.figure(figsize=IMAGE_SIZE)\n",
    "    plt.imshow(image_np)"
   ]
  },
  {
   "cell_type": "code",
   "execution_count": null,
   "id": "0054af77",
   "metadata": {},
   "outputs": [],
   "source": [
    "!tflite_convert \\\n",
    "  --input_shape=1,192,192,3 \\\n",
    "  --input_arrays=normalized_input_image_tensor \\\n",
    "  --output_arrays=TFLite_Detection_PostProcess,TFLite_Detection_PostProcess:1,TFLite_Detection_PostProcess:2,TFLite_Detection_PostProcess:3 \\\n",
    "  --allow_custom_ops \\\n",
    "  --graph_def_file=/content/models/research/fine_tuned_model/tflite/tflite_graph.pb \\\n",
    "  --output_file=\"/content/models/research/fine_tuned_model/final_model.tflite\""
   ]
  },
  {
   "cell_type": "code",
   "execution_count": null,
   "id": "90878bbc",
   "metadata": {},
   "outputs": [],
   "source": [
    "from google.colab import drive\n",
    "drive.mount('/content/drive')"
   ]
  },
  {
   "cell_type": "code",
   "execution_count": null,
   "id": "826b8c75",
   "metadata": {},
   "outputs": [],
   "source": [
    "# Change the final TFLite destination here\n",
    "!cp /content/models/research/fine_tuned_model/final_model.tflite \"/content/drive/My Drive/\""
   ]
  },
  {
   "cell_type": "code",
   "execution_count": null,
   "id": "227929c9",
   "metadata": {},
   "outputs": [],
   "source": [
    "\"\"\"Your TFLite file is now in your Drive as \"final_model.tflite\", ready to use with your project on-device! For specific device tutorials, check out the official TensorFlow Lite [Android Demo](https://github.com/tensorflow/examples/tree/master/lite/examples/object_detection/android), [iOS Demo](https://github.com/tensorflow/examples/tree/master/lite/examples/object_detection/ios), or [Raspberry Pi Demo](https://github.com/tensorflow/examples/tree/master/lite/examples/object_detection/raspberry_pi). [link text](https://)\"\"\""
   ]
  }
 ],
 "metadata": {
  "jupytext": {
   "cell_metadata_filter": "-all",
   "encoding": "# -*- coding: utf-8 -*-",
   "main_language": "python",
   "notebook_metadata_filter": "-all"
  }
 },
 "nbformat": 4,
 "nbformat_minor": 5
}
